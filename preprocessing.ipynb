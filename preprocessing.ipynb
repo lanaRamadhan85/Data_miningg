{
  "cells": [
    {
      "cell_type": "markdown",
      "metadata": {
        "id": "view-in-github",
        "colab_type": "text"
      },
      "source": [
        "<a href=\"https://colab.research.google.com/github/lanaRamadhan85/Data_miningg/blob/main/preprocessing.ipynb\" target=\"_parent\"><img src=\"https://colab.research.google.com/assets/colab-badge.svg\" alt=\"Open In Colab\"/></a>"
      ]
    },
    {
      "cell_type": "code",
      "source": [
        "import zipfile, os\n",
        "\n",
        "zip_path = \"/content/adult.zip\"\n",
        "with zipfile.ZipFile(zip_path, 'r') as zip_ref:\n",
        "    zip_ref.extractall(\"/content/adult\")\n",
        "\n",
        "os.listdir(\"/content/adult\")\n",
        "\n"
      ],
      "metadata": {
        "id": "L6JY9sb9r9nq",
        "outputId": "a7809ca5-36b4-4179-c17f-474b3ca1dc63",
        "colab": {
          "base_uri": "https://localhost:8080/"
        }
      },
      "execution_count": 2,
      "outputs": [
        {
          "output_type": "execute_result",
          "data": {
            "text/plain": [
              "['adult.test', 'adult.data', 'adult.names', 'Index', 'old.adult.names']"
            ]
          },
          "metadata": {},
          "execution_count": 2
        }
      ]
    },
    {
      "cell_type": "code",
      "source": [
        "import numpy as np\n",
        "import matplotlib.pyplot as plt\n",
        "import pandas as pd\n"
      ],
      "metadata": {
        "id": "VPkScKKWtD-Y"
      },
      "execution_count": 3,
      "outputs": []
    },
    {
      "cell_type": "code",
      "source": [
        "import pandas as pd\n",
        "\n",
        "# Tambahkan nama kolom (karena file adult.data tidak punya header)\n",
        "columns = [\n",
        "    'age', 'workclass', 'fnlwgt', 'education', 'education-num', 'marital-status',\n",
        "    'occupation', 'relationship', 'race', 'sex', 'capital-gain', 'capital-loss',\n",
        "    'hours-per-week', 'native-country', 'income'\n",
        "]\n",
        "\n",
        "dataset = pd.read_csv(\"/content/adult/adult.data\", names=columns, na_values=' ?', skipinitialspace=True)\n",
        "\n",
        "X = dataset.iloc[:, :-1].values  # semua kolom kecuali kolom terakhir\n",
        "y = dataset.iloc[:, -1].values   # kolom terakhir (income)\n",
        "\n",
        "print(X[:5])\n",
        "print(y[:5])\n"
      ],
      "metadata": {
        "id": "B5It5b6ItugV",
        "outputId": "7a4c1d36-a5e7-48cb-e468-45a62ab2d99e",
        "colab": {
          "base_uri": "https://localhost:8080/"
        }
      },
      "execution_count": 4,
      "outputs": [
        {
          "output_type": "stream",
          "name": "stdout",
          "text": [
            "[[39 'State-gov' 77516 'Bachelors' 13 'Never-married' 'Adm-clerical'\n",
            "  'Not-in-family' 'White' 'Male' 2174 0 40 'United-States']\n",
            " [50 'Self-emp-not-inc' 83311 'Bachelors' 13 'Married-civ-spouse'\n",
            "  'Exec-managerial' 'Husband' 'White' 'Male' 0 0 13 'United-States']\n",
            " [38 'Private' 215646 'HS-grad' 9 'Divorced' 'Handlers-cleaners'\n",
            "  'Not-in-family' 'White' 'Male' 0 0 40 'United-States']\n",
            " [53 'Private' 234721 '11th' 7 'Married-civ-spouse' 'Handlers-cleaners'\n",
            "  'Husband' 'Black' 'Male' 0 0 40 'United-States']\n",
            " [28 'Private' 338409 'Bachelors' 13 'Married-civ-spouse'\n",
            "  'Prof-specialty' 'Wife' 'Black' 'Female' 0 0 40 'Cuba']]\n",
            "['<=50K' '<=50K' '<=50K' '<=50K' '<=50K']\n"
          ]
        }
      ]
    },
    {
      "cell_type": "code",
      "source": [
        "from sklearn.impute import SimpleImputer\n",
        "import numpy as np\n",
        "import pandas as pd\n",
        "\n",
        "# Misal kamu sudah punya dataset dari slide 23\n",
        "columns = [\n",
        "    'age', 'workclass', 'fnlwgt', 'education', 'education-num', 'marital-status',\n",
        "    'occupation', 'relationship', 'race', 'sex', 'capital-gain', 'capital-loss',\n",
        "    'hours-per-week', 'native-country', 'income'\n",
        "]\n",
        "dataset = pd.read_csv(\"/content/adult/adult.data\", names=columns, na_values=' ?', skipinitialspace=True)\n",
        "\n",
        "X = dataset.iloc[:, :-1].values\n",
        "y = dataset.iloc[:, -1].values\n",
        "\n",
        "# Ganti nilai kosong di X dengan modus (most frequent)\n",
        "imputer = SimpleImputer(missing_values=np.nan, strategy='most_frequent')\n",
        "imputer.fit(X)\n",
        "X = imputer.transform(X)\n",
        "\n",
        "print(X[:5])\n"
      ],
      "metadata": {
        "id": "pJT8EKjQwz6W",
        "outputId": "27f59bda-bc0f-4cae-c335-01838740b71d",
        "colab": {
          "base_uri": "https://localhost:8080/"
        }
      },
      "execution_count": 5,
      "outputs": [
        {
          "output_type": "stream",
          "name": "stdout",
          "text": [
            "[[39 'State-gov' 77516 'Bachelors' 13 'Never-married' 'Adm-clerical'\n",
            "  'Not-in-family' 'White' 'Male' 2174 0 40 'United-States']\n",
            " [50 'Self-emp-not-inc' 83311 'Bachelors' 13 'Married-civ-spouse'\n",
            "  'Exec-managerial' 'Husband' 'White' 'Male' 0 0 13 'United-States']\n",
            " [38 'Private' 215646 'HS-grad' 9 'Divorced' 'Handlers-cleaners'\n",
            "  'Not-in-family' 'White' 'Male' 0 0 40 'United-States']\n",
            " [53 'Private' 234721 '11th' 7 'Married-civ-spouse' 'Handlers-cleaners'\n",
            "  'Husband' 'Black' 'Male' 0 0 40 'United-States']\n",
            " [28 'Private' 338409 'Bachelors' 13 'Married-civ-spouse'\n",
            "  'Prof-specialty' 'Wife' 'Black' 'Female' 0 0 40 'Cuba']]\n"
          ]
        }
      ]
    },
    {
      "cell_type": "code",
      "source": [
        "from sklearn.compose import ColumnTransformer\n",
        "from sklearn.preprocessing import OneHotEncoder\n",
        "import numpy as np\n",
        "import pandas as pd\n",
        "from sklearn.impute import SimpleImputer\n",
        "\n",
        "# Baca dataset\n",
        "columns = [\n",
        "    'age', 'workclass', 'fnlwgt', 'education', 'education-num', 'marital-status',\n",
        "    'occupation', 'relationship', 'race', 'sex', 'capital-gain', 'capital-loss',\n",
        "    'hours-per-week', 'native-country', 'income'\n",
        "]\n",
        "dataset = pd.read_csv(\"/content/adult/adult.data\", names=columns, na_values=' ?', skipinitialspace=True)\n",
        "\n",
        "# Pisahkan fitur dan label\n",
        "X = dataset.drop(columns=['income'])\n",
        "y = dataset['income']\n",
        "\n",
        "# Imputasi\n",
        "imputer = SimpleImputer(strategy='most_frequent')\n",
        "X = pd.DataFrame(imputer.fit_transform(X), columns=X.columns)\n",
        "\n",
        "# Kolom kategorikal\n",
        "categorical_features = [\n",
        "    'workclass', 'education', 'marital-status', 'occupation',\n",
        "    'relationship', 'race', 'sex', 'native-country'\n",
        "]\n",
        "\n",
        "# ColumnTransformer + OneHotEncoder dengan sparse_output=False\n",
        "ct = ColumnTransformer(\n",
        "    transformers=[\n",
        "        ('encoder', OneHotEncoder(drop='first', sparse_output=False), categorical_features)\n",
        "    ],\n",
        "    remainder='passthrough'\n",
        ")\n",
        "\n",
        "# Fit dan transform\n",
        "X_encoded = ct.fit_transform(X)\n",
        "\n",
        "# Ubah ke array numpy\n",
        "X_encoded = np.array(X_encoded)\n",
        "\n",
        "print(\"Hasil encoding (5 baris pertama):\")\n",
        "print(X_encoded[:5])\n",
        "print(\"Jumlah kolom hasil encoding:\", X_encoded.shape[1])\n"
      ],
      "metadata": {
        "id": "X59jHPnI0NZi",
        "outputId": "f9bba2cc-270d-46d4-d25a-b05cdb00bd6a",
        "colab": {
          "base_uri": "https://localhost:8080/"
        }
      },
      "execution_count": 8,
      "outputs": [
        {
          "output_type": "stream",
          "name": "stdout",
          "text": [
            "Hasil encoding (5 baris pertama):\n",
            "[[0.0 0.0 0.0 0.0 0.0 0.0 1.0 0.0 0.0 0.0 0.0 0.0 0.0 0.0 0.0 0.0 1.0 0.0\n",
            "  0.0 0.0 0.0 0.0 0.0 0.0 0.0 0.0 1.0 0.0 0.0 1.0 0.0 0.0 0.0 0.0 0.0 0.0\n",
            "  0.0 0.0 0.0 0.0 0.0 0.0 0.0 1.0 0.0 0.0 0.0 0.0 0.0 0.0 0.0 1.0 1.0 0.0\n",
            "  0.0 0.0 0.0 0.0 0.0 0.0 0.0 0.0 0.0 0.0 0.0 0.0 0.0 0.0 0.0 0.0 0.0 0.0\n",
            "  0.0 0.0 0.0 0.0 0.0 0.0 0.0 0.0 0.0 0.0 0.0 0.0 0.0 0.0 0.0 0.0 0.0 0.0\n",
            "  0.0 1.0 0.0 0.0 39 77516 13 2174 0 40]\n",
            " [0.0 0.0 0.0 0.0 0.0 1.0 0.0 0.0 0.0 0.0 0.0 0.0 0.0 0.0 0.0 0.0 1.0 0.0\n",
            "  0.0 0.0 0.0 0.0 0.0 0.0 1.0 0.0 0.0 0.0 0.0 0.0 0.0 0.0 1.0 0.0 0.0 0.0\n",
            "  0.0 0.0 0.0 0.0 0.0 0.0 0.0 0.0 0.0 0.0 0.0 0.0 0.0 0.0 0.0 1.0 1.0 0.0\n",
            "  0.0 0.0 0.0 0.0 0.0 0.0 0.0 0.0 0.0 0.0 0.0 0.0 0.0 0.0 0.0 0.0 0.0 0.0\n",
            "  0.0 0.0 0.0 0.0 0.0 0.0 0.0 0.0 0.0 0.0 0.0 0.0 0.0 0.0 0.0 0.0 0.0 0.0\n",
            "  0.0 1.0 0.0 0.0 50 83311 13 0 0 13]\n",
            " [0.0 0.0 0.0 1.0 0.0 0.0 0.0 0.0 0.0 0.0 0.0 0.0 0.0 0.0 0.0 0.0 0.0 0.0\n",
            "  1.0 0.0 0.0 0.0 0.0 0.0 0.0 0.0 0.0 0.0 0.0 0.0 0.0 0.0 0.0 0.0 1.0 0.0\n",
            "  0.0 0.0 0.0 0.0 0.0 0.0 0.0 1.0 0.0 0.0 0.0 0.0 0.0 0.0 0.0 1.0 1.0 0.0\n",
            "  0.0 0.0 0.0 0.0 0.0 0.0 0.0 0.0 0.0 0.0 0.0 0.0 0.0 0.0 0.0 0.0 0.0 0.0\n",
            "  0.0 0.0 0.0 0.0 0.0 0.0 0.0 0.0 0.0 0.0 0.0 0.0 0.0 0.0 0.0 0.0 0.0 0.0\n",
            "  0.0 1.0 0.0 0.0 38 215646 9 0 0 40]\n",
            " [0.0 0.0 0.0 1.0 0.0 0.0 0.0 0.0 1.0 0.0 0.0 0.0 0.0 0.0 0.0 0.0 0.0 0.0\n",
            "  0.0 0.0 0.0 0.0 0.0 0.0 1.0 0.0 0.0 0.0 0.0 0.0 0.0 0.0 0.0 0.0 1.0 0.0\n",
            "  0.0 0.0 0.0 0.0 0.0 0.0 0.0 0.0 0.0 0.0 0.0 0.0 0.0 1.0 0.0 0.0 1.0 0.0\n",
            "  0.0 0.0 0.0 0.0 0.0 0.0 0.0 0.0 0.0 0.0 0.0 0.0 0.0 0.0 0.0 0.0 0.0 0.0\n",
            "  0.0 0.0 0.0 0.0 0.0 0.0 0.0 0.0 0.0 0.0 0.0 0.0 0.0 0.0 0.0 0.0 0.0 0.0\n",
            "  0.0 1.0 0.0 0.0 53 234721 7 0 0 40]\n",
            " [0.0 0.0 0.0 1.0 0.0 0.0 0.0 0.0 0.0 0.0 0.0 0.0 0.0 0.0 0.0 0.0 1.0 0.0\n",
            "  0.0 0.0 0.0 0.0 0.0 0.0 1.0 0.0 0.0 0.0 0.0 0.0 0.0 0.0 0.0 0.0 0.0 0.0\n",
            "  0.0 0.0 1.0 0.0 0.0 0.0 0.0 0.0 0.0 0.0 0.0 1.0 0.0 1.0 0.0 0.0 0.0 0.0\n",
            "  0.0 0.0 0.0 1.0 0.0 0.0 0.0 0.0 0.0 0.0 0.0 0.0 0.0 0.0 0.0 0.0 0.0 0.0\n",
            "  0.0 0.0 0.0 0.0 0.0 0.0 0.0 0.0 0.0 0.0 0.0 0.0 0.0 0.0 0.0 0.0 0.0 0.0\n",
            "  0.0 0.0 0.0 0.0 28 338409 13 0 0 40]]\n",
            "Jumlah kolom hasil encoding: 100\n"
          ]
        }
      ]
    },
    {
      "cell_type": "code",
      "source": [
        "from sklearn.preprocessing import LabelEncoder\n",
        "\n",
        "le = LabelEncoder()\n",
        "y_encoded = le.fit_transform(y.values)  # ubah ke array NumPy agar tampil rapi\n",
        "\n",
        "print(\"5 label pertama sebelum encoding:\", y.values[:5])\n",
        "print(\"5 label pertama sesudah encoding:\", y_encoded[:5])\n"
      ],
      "metadata": {
        "id": "kecFZWzV0qq6",
        "outputId": "ccd44d64-8159-4099-868c-ae7aa8e0ce27",
        "colab": {
          "base_uri": "https://localhost:8080/"
        }
      },
      "execution_count": 10,
      "outputs": [
        {
          "output_type": "stream",
          "name": "stdout",
          "text": [
            "5 label pertama sebelum encoding: ['<=50K' '<=50K' '<=50K' '<=50K' '<=50K']\n",
            "5 label pertama sesudah encoding: [0 0 0 0 0]\n"
          ]
        }
      ]
    },
    {
      "cell_type": "code",
      "source": [
        "from sklearn.model_selection import train_test_split\n",
        "\n",
        "# X_encoded dari slide 25\n",
        "# y_encoded dari slide 26\n",
        "\n",
        "X_train, X_test, y_train, y_test = train_test_split(\n",
        "    X_encoded, y_encoded, test_size=0.2, random_state=42\n",
        ")\n",
        "\n",
        "print(\"Ukuran X_train:\", X_train.shape)\n",
        "print(\"Ukuran X_test :\", X_test.shape)\n",
        "print(\"Ukuran y_train:\", y_train.shape)\n",
        "print(\"Ukuran y_test :\", y_test.shape)\n"
      ],
      "metadata": {
        "id": "5SzPtbx31DcC",
        "outputId": "1bd13a93-bde5-4ad6-ed1e-8fd3cde0114b",
        "colab": {
          "base_uri": "https://localhost:8080/"
        }
      },
      "execution_count": 11,
      "outputs": [
        {
          "output_type": "stream",
          "name": "stdout",
          "text": [
            "Ukuran X_train: (26048, 100)\n",
            "Ukuran X_test : (6513, 100)\n",
            "Ukuran y_train: (26048,)\n",
            "Ukuran y_test : (6513,)\n"
          ]
        }
      ]
    },
    {
      "cell_type": "code",
      "source": [
        "from sklearn.preprocessing import StandardScaler\n",
        "\n",
        "# Buat objek scaler\n",
        "sc = StandardScaler()\n",
        "\n",
        "# Fit hanya pada data training, lalu transform ke keduanya\n",
        "X_train_scaled = sc.fit_transform(X_train)\n",
        "X_test_scaled = sc.transform(X_test)\n",
        "\n",
        "print(\"Sebelum scaling (5 fitur pertama):\")\n",
        "print(X_train[0][:5])\n",
        "\n",
        "print(\"\\nSesudah scaling (5 fitur pertama):\")\n",
        "print(X_train_scaled[0][:5])\n"
      ],
      "metadata": {
        "id": "CB4Er3hk1xUW",
        "outputId": "b44b0329-6669-48e1-ceea-99906161d71f",
        "colab": {
          "base_uri": "https://localhost:8080/"
        }
      },
      "execution_count": 12,
      "outputs": [
        {
          "output_type": "stream",
          "name": "stdout",
          "text": [
            "Sebelum scaling (5 fitur pertama):\n",
            "[0.0 1.0 0.0 0.0 0.0]\n",
            "\n",
            "Sesudah scaling (5 fitur pertama):\n",
            "[-0.17441476  3.77736207 -0.01639533 -1.51153614 -0.18961253]\n"
          ]
        }
      ]
    }
  ],
  "metadata": {
    "colab": {
      "name": "Welcome To Colab",
      "provenance": [],
      "include_colab_link": true
    },
    "kernelspec": {
      "display_name": "Python 3",
      "name": "python3"
    }
  },
  "nbformat": 4,
  "nbformat_minor": 0
}